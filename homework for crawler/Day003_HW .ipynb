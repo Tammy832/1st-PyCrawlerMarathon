{
 "cells": [
  {
   "cell_type": "markdown",
   "metadata": {},
   "source": [
    "# Python 下載XML檔案與解析\n",
    "\n",
    "\n",
    "* 了解 xml 檔案格式與內容\n",
    "* 能夠利用套件存取 xml 格式的檔案\n"
   ]
  },
  {
   "cell_type": "markdown",
   "metadata": {},
   "source": [
    "## 作業目標\n",
    "\n",
    "* 比較一下範例檔案中的「File I/O」與「xmltodict」讀出來的內容有什麼差異\n",
    "\n",
    "* 根據範例檔案的結果：\n",
    "    1. 請問高雄市有多少地區有溫度資料？\n",
    "    2. 請取出每一個地區所記錄的第一個時間點跟溫度\n",
    "    3. 請取出第一個地區所記錄的每一個時間點跟溫度"
   ]
  },
  {
   "cell_type": "markdown",
   "metadata": {},
   "source": [
    "### 比較一下範例檔案中的「File I/O」與「xmltodict」讀出來的內容有什麼差異\n"
   ]
  },
  {
   "cell_type": "code",
   "execution_count": null,
   "metadata": {},
   "outputs": [],
   "source": [
    "xmltodict可以直接讀取目標資料，不用整個開file；而File I/O則是當如果不知道文件裡有什麼結構，可以用這種方式打開全文件"
   ]
  },
  {
   "cell_type": "markdown",
   "metadata": {},
   "source": [
    "### 根據範例檔案的結果：\n",
    "\n",
    "1. 請問高雄市有多少地區有溫度資料？\n",
    "2. 請取出每一個地區所記錄的第一個時間點跟溫度\n",
    "3. 請取出第一個地區所記錄的每一個時間點跟溫度"
   ]
  },
  {
   "cell_type": "code",
   "execution_count": 2,
   "metadata": {},
   "outputs": [
    {
     "name": "stdout",
     "output_type": "stream",
     "text": [
      "高雄有38個地區有溫度資料\n"
     ]
    }
   ],
   "source": [
    "# 1. 請問高雄市有多少地區有溫度資料？\n",
    "\n",
    "import xmltodict\n",
    "\n",
    "count_number = 0\n",
    "\n",
    "with open('./data/64_72hr_CH.txt', encoding='UTF-8') as fd:\n",
    "    doc = xmltodict.parse(fd.read())\n",
    "\n",
    "area_tempers = doc['cwbopendata']['dataset']['locations']['location']\n",
    "for area_temper in area_tempers:\n",
    "    for weatherElement in area_temper['weatherElement']:\n",
    "        if weatherElement['description'] == '溫度':\n",
    "            count_number += 1\n",
    "            \n",
    "print('高雄有%s個地區有溫度資料' % count_number)"
   ]
  },
  {
   "cell_type": "code",
   "execution_count": 3,
   "metadata": {},
   "outputs": [
    {
     "name": "stdout",
     "output_type": "stream",
     "text": [
      "鹽埕區 2019-12-05T06:00:00+08:00 16 攝氏度\n",
      "鼓山區 2019-12-05T06:00:00+08:00 16 攝氏度\n",
      "左營區 2019-12-05T06:00:00+08:00 16 攝氏度\n",
      "楠梓區 2019-12-05T06:00:00+08:00 16 攝氏度\n",
      "三民區 2019-12-05T06:00:00+08:00 16 攝氏度\n",
      "新興區 2019-12-05T06:00:00+08:00 17 攝氏度\n",
      "前金區 2019-12-05T06:00:00+08:00 16 攝氏度\n",
      "苓雅區 2019-12-05T06:00:00+08:00 17 攝氏度\n",
      "前鎮區 2019-12-05T06:00:00+08:00 17 攝氏度\n",
      "旗津區 2019-12-05T06:00:00+08:00 17 攝氏度\n",
      "小港區 2019-12-05T06:00:00+08:00 17 攝氏度\n",
      "鳳山區 2019-12-05T06:00:00+08:00 16 攝氏度\n",
      "林園區 2019-12-05T06:00:00+08:00 17 攝氏度\n",
      "大寮區 2019-12-05T06:00:00+08:00 16 攝氏度\n",
      "大樹區 2019-12-05T06:00:00+08:00 15 攝氏度\n",
      "大社區 2019-12-05T06:00:00+08:00 15 攝氏度\n",
      "仁武區 2019-12-05T06:00:00+08:00 15 攝氏度\n",
      "鳥松區 2019-12-05T06:00:00+08:00 16 攝氏度\n",
      "岡山區 2019-12-05T06:00:00+08:00 16 攝氏度\n",
      "橋頭區 2019-12-05T06:00:00+08:00 16 攝氏度\n",
      "燕巢區 2019-12-05T06:00:00+08:00 16 攝氏度\n",
      "田寮區 2019-12-05T06:00:00+08:00 15 攝氏度\n",
      "阿蓮區 2019-12-05T06:00:00+08:00 15 攝氏度\n",
      "路竹區 2019-12-05T06:00:00+08:00 16 攝氏度\n",
      "湖內區 2019-12-05T06:00:00+08:00 16 攝氏度\n",
      "茄萣區 2019-12-05T06:00:00+08:00 16 攝氏度\n",
      "永安區 2019-12-05T06:00:00+08:00 16 攝氏度\n",
      "彌陀區 2019-12-05T06:00:00+08:00 16 攝氏度\n",
      "梓官區 2019-12-05T06:00:00+08:00 15 攝氏度\n",
      "旗山區 2019-12-05T06:00:00+08:00 16 攝氏度\n",
      "美濃區 2019-12-05T06:00:00+08:00 16 攝氏度\n",
      "六龜區 2019-12-05T06:00:00+08:00 17 攝氏度\n",
      "甲仙區 2019-12-05T06:00:00+08:00 15 攝氏度\n",
      "杉林區 2019-12-05T06:00:00+08:00 16 攝氏度\n",
      "內門區 2019-12-05T06:00:00+08:00 15 攝氏度\n",
      "茂林區 2019-12-05T06:00:00+08:00 16 攝氏度\n",
      "桃源區 2019-12-05T06:00:00+08:00 16 攝氏度\n",
      "那瑪夏區 2019-12-05T06:00:00+08:00 15 攝氏度\n"
     ]
    }
   ],
   "source": [
    "# 2. 請取出每一個地區所記錄的第一個時間點跟溫度\n",
    "\n",
    "import xmltodict\n",
    "\n",
    "with open('./data/64_72hr_CH.txt', encoding='UTF-8') as fd:\n",
    "    doc = xmltodict.parse(fd.read())\n",
    "\n",
    "areas_temper = doc['cwbopendata']['dataset']['locations']['location']\n",
    "for area_temper in areas_temper:\n",
    "    for weatherElement in area_temper['weatherElement']:\n",
    "        if weatherElement['description'] == '溫度':\n",
    "            print(area_temper['locationName'], weatherElement['time'][0]['dataTime'], weatherElement['time'][0]['elementValue']['value'], weatherElement['time'][0]['elementValue']['measures'])"
   ]
  },
  {
   "cell_type": "code",
   "execution_count": 4,
   "metadata": {},
   "outputs": [
    {
     "name": "stdout",
     "output_type": "stream",
     "text": [
      "2019-12-05T06:00:00+08:00 16 攝氏度\n",
      "2019-12-05T09:00:00+08:00 18 攝氏度\n",
      "2019-12-05T12:00:00+08:00 21 攝氏度\n",
      "2019-12-05T15:00:00+08:00 21 攝氏度\n",
      "2019-12-05T18:00:00+08:00 20 攝氏度\n",
      "2019-12-05T21:00:00+08:00 18 攝氏度\n",
      "2019-12-06T00:00:00+08:00 18 攝氏度\n",
      "2019-12-06T03:00:00+08:00 17 攝氏度\n",
      "2019-12-06T06:00:00+08:00 17 攝氏度\n",
      "2019-12-06T09:00:00+08:00 17 攝氏度\n",
      "2019-12-06T12:00:00+08:00 19 攝氏度\n",
      "2019-12-06T15:00:00+08:00 20 攝氏度\n",
      "2019-12-06T18:00:00+08:00 18 攝氏度\n",
      "2019-12-06T21:00:00+08:00 17 攝氏度\n",
      "2019-12-07T00:00:00+08:00 16 攝氏度\n",
      "2019-12-07T03:00:00+08:00 16 攝氏度\n",
      "2019-12-07T06:00:00+08:00 16 攝氏度\n",
      "2019-12-07T09:00:00+08:00 17 攝氏度\n",
      "2019-12-07T12:00:00+08:00 21 攝氏度\n",
      "2019-12-07T15:00:00+08:00 22 攝氏度\n",
      "2019-12-07T18:00:00+08:00 20 攝氏度\n",
      "2019-12-07T21:00:00+08:00 18 攝氏度\n",
      "2019-12-08T00:00:00+08:00 16 攝氏度\n",
      "2019-12-08T03:00:00+08:00 16 攝氏度\n"
     ]
    }
   ],
   "source": [
    "# 3. 請取出第一個地區所記錄的每一個時間點跟溫度\n",
    "\n",
    "import xmltodict\n",
    "\n",
    "with open('./data/64_72hr_CH.txt', encoding='UTF-8') as fd:\n",
    "    doc = xmltodict.parse(fd.read())\n",
    "\n",
    "areas_temper = doc['cwbopendata']['dataset']['locations']['location']\n",
    "for area_temper in areas_temper:\n",
    "    if area_temper['locationName'] == '鹽埕區':\n",
    "        for weatherElement in area_temper['weatherElement']:\n",
    "            if weatherElement['description'] == '溫度':\n",
    "                for time in weatherElement['time']:\n",
    "                    print(time['dataTime'], time['elementValue']['value'], time['elementValue']['measures'])"
   ]
  }
 ],
 "metadata": {
  "kernelspec": {
   "display_name": "Python 3",
   "language": "python",
   "name": "python3"
  },
  "language_info": {
   "codemirror_mode": {
    "name": "ipython",
    "version": 3
   },
   "file_extension": ".py",
   "mimetype": "text/x-python",
   "name": "python",
   "nbconvert_exporter": "python",
   "pygments_lexer": "ipython3",
   "version": "3.7.4"
  }
 },
 "nbformat": 4,
 "nbformat_minor": 2
}
