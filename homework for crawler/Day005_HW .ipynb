{
 "cells": [
  {
   "cell_type": "markdown",
   "metadata": {},
   "source": [
    "# API 資料串接 - 以 Dcard API 實作範例\n",
    "\n",
    "* 了解 Dcard API 使用方式與回傳內容\n",
    "* 撰寫程式存取 API 且解析 JSON 格式資料\n"
   ]
  },
  {
   "cell_type": "markdown",
   "metadata": {},
   "source": [
    "## 作業目標\n",
    "\n",
    "* 請利用 API: https://www.dcard.tw/_api/forums/pet/posts?popular=true 回答下列問題：\n",
    "\n",
    "1. 這個 API 一次會回傳幾筆資料？每一筆資料包含哪些欄位？\n",
    "2. 取出每一筆資料的「標題」、「貼文時間」、「留言人數」、「按讚人數」\n",
    "3. 計算熱門/非熱門文章的「平均留言人數」與「平均按讚人數」"
   ]
  },
  {
   "cell_type": "code",
   "execution_count": 15,
   "metadata": {},
   "outputs": [
    {
     "name": "stdout",
     "output_type": "stream",
     "text": [
      "這個 API 一次會回傳30筆資料\n",
      "每一筆資料包含以下資料: dict_keys(['id', 'title', 'excerpt', 'anonymousSchool', 'anonymousDepartment', 'pinned', 'forumId', 'replyId', 'createdAt', 'updatedAt', 'commentCount', 'likeCount', 'withNickname', 'tags', 'topics', 'meta', 'forumName', 'forumAlias', 'gender', 'school', 'department', 'replyTitle', 'mediaMeta', 'reactions', 'hidden', 'customStyle', 'isSuspiciousAccount', 'layout', 'withImages', 'withVideos', 'media', 'reportReasonText', 'postAvatar'])\n"
     ]
    }
   ],
   "source": [
    "# 1. 這個 API 一次會回傳幾筆資料？每一筆資料包含哪些欄位？\n",
    "import requests\n",
    "r = requests.get('https://www.dcard.tw/_api/forums/pet/posts?popular=true')\n",
    "response = r.text\n",
    "\n",
    "import json\n",
    "data = json.loads(response)\n",
    "\n",
    "count_number = 0\n",
    "\n",
    "for d in data:\n",
    "    count_number += 1\n",
    "\n",
    "print('這個 API 一次會回傳%s筆資料' % count_number)\n",
    "print('每一筆資料包含以下資料:', data[1].keys())"
   ]
  },
  {
   "cell_type": "code",
   "execution_count": 16,
   "metadata": {},
   "outputs": [
    {
     "name": "stdout",
     "output_type": "stream",
     "text": [
      "標題: #圖 捉姦在沙發！ 貼文時間: 2019-12-06T10:36:45.348Z 留言人數: 20 按讚人數: 680\n",
      "標題: 小貓 vs 哈士奇の貓狗大戰 貼文時間: 2019-12-06T05:59:13.675Z 留言人數: 8 按讚人數: 115\n",
      "標題: 金鋼狼出現了！ 貼文時間: 2019-12-06T06:54:49.757Z 留言人數: 1 按讚人數: 47\n",
      "標題: 發現被母貓遺棄的奶貓 貼文時間: 2019-12-06T06:59:54.426Z 留言人數: 10 按讚人數: 46\n",
      "標題: 到底誰才是正宮！ 貼文時間: 2019-12-06T06:27:08.672Z 留言人數: 1 按讚人數: 41\n",
      "標題: #第一張有恐怖圖 你笑起來好可愛 貼文時間: 2019-12-07T03:25:34.942Z 留言人數: 4 按讚人數: 31\n",
      "標題: 這位同學你的貓被通緝了 貼文時間: 2019-12-06T00:36:50.915Z 留言人數: 7 按讚人數: 30\n",
      "標題: 只是想曬貓 貼文時間: 2019-12-06T09:03:54.724Z 留言人數: 8 按讚人數: 25\n",
      "標題: 急！貓咪走丟了 貼文時間: 2019-12-06T13:37:24.697Z 留言人數: 5 按讚人數: 22\n",
      "標題: 好可愛，同學你的貓塞奶完還跑走(˶‾᷄ ⁻̫ ‾᷅˵) 貼文時間: 2019-12-06T19:30:21.516Z 留言人數: 0 按讚人數: 20\n",
      "標題: 當貓的 一定要會做一件事 貼文時間: 2019-12-06T14:40:52.782Z 留言人數: 1 按讚人數: 20\n",
      "標題: 滑過略過 千萬別錯過萌獸 貼文時間: 2019-12-06T16:13:16.298Z 留言人數: 1 按讚人數: 14\n",
      "標題: 雲林斗六建興路遺失黑貴賓犬 貼文時間: 2019-12-06T14:20:00.871Z 留言人數: 3 按讚人數: 12\n",
      "標題: 曬腳腳 貼文時間: 2019-12-06T13:26:57.273Z 留言人數: 4 按讚人數: 12\n",
      "標題: 天冷懶人包(ꐦ ´͈ ᗨ `͈ ) 貼文時間: 2019-12-06T05:22:55.430Z 留言人數: 5 按讚人數: 12\n",
      "標題: 愛你 貼文時間: 2019-12-06T00:56:48.652Z 留言人數: 0 按讚人數: 12\n",
      "標題: 冬天94要不洗頭 貼文時間: 2019-12-07T05:25:00.317Z 留言人數: 4 按讚人數: 11\n",
      "標題: 泰國寵物手繪油畫 貼文時間: 2019-12-06T08:09:13.877Z 留言人數: 4 按讚人數: 11\n",
      "標題: 虎斑法鬥 貼文時間: 2019-12-06T07:32:08.907Z 留言人數: 8 按讚人數: 11\n",
      "標題: 奴才端菜來～～（圖多） 貼文時間: 2019-12-06T16:26:19.150Z 留言人數: 7 按讚人數: 9\n",
      "標題: 高雄小毛球送養 貼文時間: 2019-12-06T09:24:27.893Z 留言人數: 1 按讚人數: 9\n",
      "標題: 我的貓咪是漢堡神偷 😨 貼文時間: 2019-12-07T02:55:55.656Z 留言人數: 1 按讚人數: 8\n",
      "標題: 交出你的貓貓(ಥ_ಥ) 貼文時間: 2019-12-06T03:30:10.814Z 留言人數: 5 按讚人數: 8\n",
      "標題: 正在冬眠的貓 貼文時間: 2019-12-07T07:00:54.317Z 留言人數: 3 按讚人數: 7\n",
      "標題: ⚠️迷你狐獴出沒 貼文時間: 2019-12-06T17:21:41.388Z 留言人數: 2 按讚人數: 7\n",
      "標題: 喜馬拉雅貓♡ 貼文時間: 2019-12-06T16:48:15.956Z 留言人數: 0 按讚人數: 7\n",
      "標題: 娃娃破壞者 貼文時間: 2019-12-06T09:30:44.558Z 留言人數: 0 按讚人數: 7\n",
      "標題: 貓貓也來取暖 貼文時間: 2019-12-07T04:04:18.841Z 留言人數: 0 按讚人數: 6\n",
      "標題: 小老鼠跟你有仇嗎=    = 貼文時間: 2019-12-07T02:45:02.748Z 留言人數: 3 按讚人數: 6\n",
      "標題: #影 變冷 暖氣吹爽爽 貼文時間: 2019-12-06T08:16:37.608Z 留言人數: 0 按讚人數: 5\n"
     ]
    }
   ],
   "source": [
    "# 2. 取出每一筆資料的「標題」、「貼文時間」、「留言人數」、「按讚人數」\n",
    "for d in data:\n",
    "    print('標題:', d['title'], '貼文時間:', d['createdAt'], '留言人數:', d['commentCount'], '按讚人數:', d['likeCount'])"
   ]
  },
  {
   "cell_type": "code",
   "execution_count": 17,
   "metadata": {},
   "outputs": [
    {
     "name": "stdout",
     "output_type": "stream",
     "text": [
      "熱門文章的「平均留言人數」: 3.8666666666666667\n",
      "熱門文章的「平均按讚人數」: 20.85\n",
      "非熱門文章的「平均留言人數」: 3.8666666666666667\n",
      "非熱門文章的「平均按讚人數」: 3.0\n"
     ]
    }
   ],
   "source": [
    "# 3. 計算熱門/非熱門文章的「平均留言人數」與「平均按讚人數」\n",
    "# 先初始設定熱門文章數量\n",
    "count_number = 0\n",
    "\n",
    "# 計算熱門文章的「平均留言人數」\n",
    "comment_count = 0\n",
    "for comment in data:\n",
    "    count_number += 1\n",
    "    comment_count += comment['commentCount']\n",
    "\n",
    "print('熱門文章的「平均留言人數」:', comment_count/count_number)\n",
    "\n",
    "# 計算熱門文章的「平均按讚人數」\n",
    "like_count = 0\n",
    "\n",
    "for like in data:\n",
    "    count_number += 1\n",
    "    like_count += like['likeCount']\n",
    "\n",
    "print('熱門文章的「平均按讚人數」:', like_count/count_number)\n",
    "\n",
    "# 取得非熱門文章資料\n",
    "# 引入函式庫 ps.f為false之意\n",
    "rf = requests.get('https://www.dcard.tw/_api/forums/pet/posts?popular=false')\n",
    "# 想要爬資料的⽬標網址\n",
    "responsef = rf.text\n",
    "\n",
    "dataf = json.loads(responsef)\n",
    "\n",
    "# 先初始設定非熱門文章數量\n",
    "countf_number = 0\n",
    "\n",
    "# 計算熱門文章的「平均留言人數」\n",
    "commentf_count = 0\n",
    "for commentf in data:\n",
    "    countf_number += 1\n",
    "    commentf_count += commentf['commentCount']\n",
    "\n",
    "print('非熱門文章的「平均留言人數」:', commentf_count/countf_number)\n",
    "\n",
    "# 計算非熱門文章的「平均按讚人數」\n",
    "likef_count = 0\n",
    "\n",
    "for likef in dataf:\n",
    "    countf_number +=1\n",
    "    likef_count += likef['likeCount']\n",
    "print('非熱門文章的「平均按讚人數」:', likef_count/countf_number)"
   ]
  }
 ],
 "metadata": {
  "kernelspec": {
   "display_name": "Python 3",
   "language": "python",
   "name": "python3"
  },
  "language_info": {
   "codemirror_mode": {
    "name": "ipython",
    "version": 3
   },
   "file_extension": ".py",
   "mimetype": "text/x-python",
   "name": "python",
   "nbconvert_exporter": "python",
   "pygments_lexer": "ipython3",
   "version": "3.7.4"
  }
 },
 "nbformat": 4,
 "nbformat_minor": 2
}
